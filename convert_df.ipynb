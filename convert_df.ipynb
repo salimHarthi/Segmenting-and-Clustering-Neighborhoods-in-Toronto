{
  "nbformat": 4,
  "nbformat_minor": 0,
  "metadata": {
    "colab": {
      "name": "Untitled8.ipynb",
      "provenance": [],
      "authorship_tag": "ABX9TyMexLF3RWeHKyzcToZZ78bZ",
      "include_colab_link": true
    },
    "kernelspec": {
      "name": "python3",
      "display_name": "Python 3"
    },
    "language_info": {
      "name": "python"
    }
  },
  "cells": [
    {
      "cell_type": "markdown",
      "metadata": {
        "id": "view-in-github",
        "colab_type": "text"
      },
      "source": [
        "<a href=\"https://colab.research.google.com/github/salimHarthi/Segmenting-and-Clustering-Neighborhoods-in-Toronto/blob/main/convert_df.ipynb\" target=\"_parent\"><img src=\"https://colab.research.google.com/assets/colab-badge.svg\" alt=\"Open In Colab\"/></a>"
      ]
    },
    {
      "cell_type": "code",
      "metadata": {
        "colab": {
          "base_uri": "https://localhost:8080/",
          "height": 204
        },
        "id": "-HrVLu8d97Ap",
        "outputId": "8a6f521d-8bc8-4d67-c1fe-d4b57edabf40"
      },
      "source": [
        "from bs4 import BeautifulSoup\n",
        "import requests\n",
        "import pandas as pd\n",
        "import numpy as np\n",
        "# download url data from internet\n",
        "url = \"https://en.wikipedia.org/wiki/List_of_postal_codes_of_Canada:_M\"\n",
        "source = requests.get(url).text\n",
        "Canada_data = BeautifulSoup(source, 'lxml')\n",
        "\n",
        "# creat a new Dataframe\n",
        "column_names = ['Postalcode','Borough','Neighborhood']\n",
        "toronto = pd.DataFrame(columns = column_names)\n",
        "content = Canada_data.find('div', class_='mw-parser-output')\n",
        "table = content.table.tbody\n",
        "postcode = 0\n",
        "borough = 0\n",
        "neighborhood = 0\n",
        "\n",
        "for tr in table.find_all('tr'):\n",
        "    i = 0\n",
        "    for td in tr.find_all('td'):\n",
        "        if i == 0:\n",
        "            postcode = td.text\n",
        "            i = i + 1\n",
        "        elif i == 1:\n",
        "            borough = td.text\n",
        "            i = i + 1\n",
        "        elif i == 2: \n",
        "            neighborhood = td.text.strip('\\n').replace(']','')\n",
        "    toronto = toronto.append({'Postalcode': postcode,'Borough': borough,'Neighborhood': neighborhood},ignore_index=True)\n",
        "\n",
        "# clean dataframe \n",
        "toronto = toronto[toronto.Borough!='Not assigned']\n",
        "toronto = toronto[toronto.Borough!= 0]\n",
        "toronto.reset_index(drop = True, inplace = True)\n",
        "i = 0\n",
        "for i in range(0,toronto.shape[0]):\n",
        "    if toronto.iloc[i][2] == 'Not assigned':\n",
        "        toronto.iloc[i][2] = toronto.iloc[i][1]\n",
        "        i = i+1\n",
        "                                 \n",
        "df = toronto.groupby(['Postalcode','Borough'])['Neighborhood'].apply(', '.join).reset_index()\n",
        "\n",
        "def neighborhood_list(grouped):    \n",
        "    return ', '.join(sorted(grouped['Neighborhood'].tolist()))\n",
        "                    \n",
        "grp = df.groupby(['Postalcode', 'Borough'])\n",
        "df2 = grp.apply(neighborhood_list).reset_index(name='Neighborhood')\n",
        "df2.rename(columns={'Postalcode':'Postal Code'}, inplace=True)\n",
        "df2.head()"
      ],
      "execution_count": 1,
      "outputs": [
        {
          "output_type": "execute_result",
          "data": {
            "text/html": [
              "<div>\n",
              "<style scoped>\n",
              "    .dataframe tbody tr th:only-of-type {\n",
              "        vertical-align: middle;\n",
              "    }\n",
              "\n",
              "    .dataframe tbody tr th {\n",
              "        vertical-align: top;\n",
              "    }\n",
              "\n",
              "    .dataframe thead th {\n",
              "        text-align: right;\n",
              "    }\n",
              "</style>\n",
              "<table border=\"1\" class=\"dataframe\">\n",
              "  <thead>\n",
              "    <tr style=\"text-align: right;\">\n",
              "      <th></th>\n",
              "      <th>Postal Code</th>\n",
              "      <th>Borough</th>\n",
              "      <th>Neighborhood</th>\n",
              "    </tr>\n",
              "  </thead>\n",
              "  <tbody>\n",
              "    <tr>\n",
              "      <th>0</th>\n",
              "      <td>\\nM1ANot assigned\\n\\n</td>\n",
              "      <td>\\nM2ANot assigned\\n\\n</td>\n",
              "      <td>M9AEtobicoke(Islington Avenue)</td>\n",
              "    </tr>\n",
              "    <tr>\n",
              "      <th>1</th>\n",
              "      <td>\\nM1BScarborough(Malvern / Rouge)\\n\\n</td>\n",
              "      <td>\\nM2BNot assigned\\n\\n</td>\n",
              "      <td>M9BEtobicoke(West Deane Park / Princess Garden...</td>\n",
              "    </tr>\n",
              "    <tr>\n",
              "      <th>2</th>\n",
              "      <td>\\nM1CScarborough(Rouge Hill / Port Union / Hig...</td>\n",
              "      <td>\\nM2CNot assigned\\n\\n</td>\n",
              "      <td>M9CEtobicoke(Eringate / Bloordale Gardens / Ol...</td>\n",
              "    </tr>\n",
              "    <tr>\n",
              "      <th>3</th>\n",
              "      <td>\\nM1EScarborough(Guildwood / Morningside / Wes...</td>\n",
              "      <td>\\nM2ENot assigned\\n\\n</td>\n",
              "      <td>M9ENot assigned</td>\n",
              "    </tr>\n",
              "    <tr>\n",
              "      <th>4</th>\n",
              "      <td>\\nM1GScarborough(Woburn)\\n\\n</td>\n",
              "      <td>\\nM2GNot assigned\\n\\n</td>\n",
              "      <td>M9GNot assigned</td>\n",
              "    </tr>\n",
              "  </tbody>\n",
              "</table>\n",
              "</div>"
            ],
            "text/plain": [
              "                                         Postal Code  ...                                       Neighborhood\n",
              "0                              \\nM1ANot assigned\\n\\n  ...                     M9AEtobicoke(Islington Avenue)\n",
              "1              \\nM1BScarborough(Malvern / Rouge)\\n\\n  ...  M9BEtobicoke(West Deane Park / Princess Garden...\n",
              "2  \\nM1CScarborough(Rouge Hill / Port Union / Hig...  ...  M9CEtobicoke(Eringate / Bloordale Gardens / Ol...\n",
              "3  \\nM1EScarborough(Guildwood / Morningside / Wes...  ...                                    M9ENot assigned\n",
              "4                       \\nM1GScarborough(Woburn)\\n\\n  ...                                    M9GNot assigned\n",
              "\n",
              "[5 rows x 3 columns]"
            ]
          },
          "metadata": {
            "tags": []
          },
          "execution_count": 1
        }
      ]
    },
    {
      "cell_type": "code",
      "metadata": {
        "colab": {
          "base_uri": "https://localhost:8080/",
          "height": 235
        },
        "id": "apXt_Npl98Dh",
        "outputId": "e331cddf-70fe-490f-87d4-61938d072a19"
      },
      "source": [
        "toronto_geocsv = 'https://cocl.us/Geospatial_data'\n",
        "!wget -q -O 'toronto_m.geospatial_data.csv' toronto_geocsv\n",
        "geocsv_data = pd.read_csv(toronto_geocsv).set_index(\"Postal Code\")\n",
        "geocsv_data.head()\n"
      ],
      "execution_count": 2,
      "outputs": [
        {
          "output_type": "execute_result",
          "data": {
            "text/html": [
              "<div>\n",
              "<style scoped>\n",
              "    .dataframe tbody tr th:only-of-type {\n",
              "        vertical-align: middle;\n",
              "    }\n",
              "\n",
              "    .dataframe tbody tr th {\n",
              "        vertical-align: top;\n",
              "    }\n",
              "\n",
              "    .dataframe thead th {\n",
              "        text-align: right;\n",
              "    }\n",
              "</style>\n",
              "<table border=\"1\" class=\"dataframe\">\n",
              "  <thead>\n",
              "    <tr style=\"text-align: right;\">\n",
              "      <th></th>\n",
              "      <th>Latitude</th>\n",
              "      <th>Longitude</th>\n",
              "    </tr>\n",
              "    <tr>\n",
              "      <th>Postal Code</th>\n",
              "      <th></th>\n",
              "      <th></th>\n",
              "    </tr>\n",
              "  </thead>\n",
              "  <tbody>\n",
              "    <tr>\n",
              "      <th>M1B</th>\n",
              "      <td>43.806686</td>\n",
              "      <td>-79.194353</td>\n",
              "    </tr>\n",
              "    <tr>\n",
              "      <th>M1C</th>\n",
              "      <td>43.784535</td>\n",
              "      <td>-79.160497</td>\n",
              "    </tr>\n",
              "    <tr>\n",
              "      <th>M1E</th>\n",
              "      <td>43.763573</td>\n",
              "      <td>-79.188711</td>\n",
              "    </tr>\n",
              "    <tr>\n",
              "      <th>M1G</th>\n",
              "      <td>43.770992</td>\n",
              "      <td>-79.216917</td>\n",
              "    </tr>\n",
              "    <tr>\n",
              "      <th>M1H</th>\n",
              "      <td>43.773136</td>\n",
              "      <td>-79.239476</td>\n",
              "    </tr>\n",
              "  </tbody>\n",
              "</table>\n",
              "</div>"
            ],
            "text/plain": [
              "              Latitude  Longitude\n",
              "Postal Code                      \n",
              "M1B          43.806686 -79.194353\n",
              "M1C          43.784535 -79.160497\n",
              "M1E          43.763573 -79.188711\n",
              "M1G          43.770992 -79.216917\n",
              "M1H          43.773136 -79.239476"
            ]
          },
          "metadata": {
            "tags": []
          },
          "execution_count": 2
        }
      ]
    },
    {
      "cell_type": "code",
      "metadata": {
        "colab": {
          "base_uri": "https://localhost:8080/",
          "height": 49
        },
        "id": "tSHDKEED-EW_",
        "outputId": "d9deef94-9bd7-4fc6-d46a-995f36fa3b5b"
      },
      "source": [
        "df = pd.merge(geocsv_data, df2, on='Postal Code')\n",
        "df = df[['Postal Code', 'Borough', 'Neighborhood', 'Latitude', 'Longitude']]\n",
        "df.head(15)"
      ],
      "execution_count": 3,
      "outputs": [
        {
          "output_type": "execute_result",
          "data": {
            "text/html": [
              "<div>\n",
              "<style scoped>\n",
              "    .dataframe tbody tr th:only-of-type {\n",
              "        vertical-align: middle;\n",
              "    }\n",
              "\n",
              "    .dataframe tbody tr th {\n",
              "        vertical-align: top;\n",
              "    }\n",
              "\n",
              "    .dataframe thead th {\n",
              "        text-align: right;\n",
              "    }\n",
              "</style>\n",
              "<table border=\"1\" class=\"dataframe\">\n",
              "  <thead>\n",
              "    <tr style=\"text-align: right;\">\n",
              "      <th></th>\n",
              "      <th>Postal Code</th>\n",
              "      <th>Borough</th>\n",
              "      <th>Neighborhood</th>\n",
              "      <th>Latitude</th>\n",
              "      <th>Longitude</th>\n",
              "    </tr>\n",
              "  </thead>\n",
              "  <tbody>\n",
              "  </tbody>\n",
              "</table>\n",
              "</div>"
            ],
            "text/plain": [
              "Empty DataFrame\n",
              "Columns: [Postal Code, Borough, Neighborhood, Latitude, Longitude]\n",
              "Index: []"
            ]
          },
          "metadata": {
            "tags": []
          },
          "execution_count": 3
        }
      ]
    },
    {
      "cell_type": "code",
      "metadata": {
        "id": "gAZVV-nk-L1C"
      },
      "source": [
        "df.to_csv('Toronto.data.csv',index=False)"
      ],
      "execution_count": 4,
      "outputs": []
    },
    {
      "cell_type": "code",
      "metadata": {
        "colab": {
          "base_uri": "https://localhost:8080/"
        },
        "id": "DWIpy9uv-PqZ",
        "outputId": "a564102f-c6ef-422d-e211-012be371dfaf"
      },
      "source": [
        "print(\"df shape\",df.shape)"
      ],
      "execution_count": 5,
      "outputs": [
        {
          "output_type": "stream",
          "text": [
            "df shape (0, 5)\n"
          ],
          "name": "stdout"
        }
      ]
    },
    {
      "cell_type": "code",
      "metadata": {
        "id": "bQCOCKs_-Wva"
      },
      "source": [
        ""
      ],
      "execution_count": null,
      "outputs": []
    }
  ]
}