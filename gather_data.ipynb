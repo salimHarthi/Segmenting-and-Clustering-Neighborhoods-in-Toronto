{
  "nbformat": 4,
  "nbformat_minor": 0,
  "metadata": {
    "colab": {
      "name": "gather_data.ipynb",
      "provenance": [],
      "authorship_tag": "ABX9TyPI5NPIg+Q92iVoD300+OPK",
      "include_colab_link": true
    },
    "kernelspec": {
      "name": "python3",
      "display_name": "Python 3"
    },
    "language_info": {
      "name": "python"
    }
  },
  "cells": [
    {
      "cell_type": "markdown",
      "metadata": {
        "id": "view-in-github",
        "colab_type": "text"
      },
      "source": [
        "<a href=\"https://colab.research.google.com/github/salimHarthi/Segmenting-and-Clustering-Neighborhoods-in-Toronto/blob/main/gather_data.ipynb\" target=\"_parent\"><img src=\"https://colab.research.google.com/assets/colab-badge.svg\" alt=\"Open In Colab\"/></a>"
      ]
    },
    {
      "cell_type": "code",
      "metadata": {
        "id": "cAUv2Bpi6Bt3"
      },
      "source": [
        "import pandas as pd\n",
        "import numpy as np\n",
        "from bs4 import BeautifulSoup\n",
        "import requests"
      ],
      "execution_count": 8,
      "outputs": []
    },
    {
      "cell_type": "code",
      "metadata": {
        "id": "FzYi4bxR5-SP"
      },
      "source": [
        "table_contents=[]\n",
        "url = 'https://en.wikipedia.org/wiki/List_of_postal_codes_of_Canada:_M'\n",
        "source = requests.get(url).text\n",
        "Canada_data = BeautifulSoup(source, 'lxml')\n",
        "column_names = ['Postalcode','Borough','Neighborhood']\n",
        "toronto = pd.DataFrame(columns = column_names)"
      ],
      "execution_count": 10,
      "outputs": []
    },
    {
      "cell_type": "code",
      "metadata": {
        "colab": {
          "base_uri": "https://localhost:8080/",
          "height": 204
        },
        "id": "aQc4IxEW7z5o",
        "outputId": "e7c44eda-c1c5-43be-b05f-abf12aebc5cd"
      },
      "source": [
        "content = Canada_data.find('div', class_='mw-parser-output')\n",
        "table = content.table.tbody\n",
        "postcode = 0\n",
        "borough = 0\n",
        "neighborhood = 0\n",
        "\n",
        "for tr in table.find_all('tr'):\n",
        "    i = 0\n",
        "    for td in tr.find_all('td'):\n",
        "        if i == 0:\n",
        "            postcode = td.text\n",
        "            i = i + 1\n",
        "        elif i == 1:\n",
        "            borough = td.text\n",
        "            i = i + 1\n",
        "        elif i == 2: \n",
        "            neighborhood = td.text.strip('\\n').replace(']','')\n",
        "    toronto = toronto.append({'Postalcode': postcode,'Borough': borough,'Neighborhood': neighborhood},ignore_index=True)\n",
        "\n",
        "# clean dataframe \n",
        "toronto = toronto[toronto.Borough!='Not assigned']\n",
        "toronto = toronto[toronto.Borough!= 0]\n",
        "toronto.reset_index(drop = True, inplace = True)\n",
        "i = 0\n",
        "for i in range(0,toronto.shape[0]):\n",
        "    if toronto.iloc[i][2] == 'Not assigned':\n",
        "        toronto.iloc[i][2] = toronto.iloc[i][1]\n",
        "        i = i+1\n",
        "                                 \n",
        "df = toronto.groupby(['Postalcode','Borough'])['Neighborhood'].apply(', '.join).reset_index()\n",
        "df = df.dropna()\n",
        "empty = 'Not assigned'\n",
        "df = df[(df.Postalcode != empty ) & (df.Borough != empty) & (df.Neighborhood != empty)]\n",
        "df.head()"
      ],
      "execution_count": 14,
      "outputs": [
        {
          "output_type": "execute_result",
          "data": {
            "text/html": [
              "<div>\n",
              "<style scoped>\n",
              "    .dataframe tbody tr th:only-of-type {\n",
              "        vertical-align: middle;\n",
              "    }\n",
              "\n",
              "    .dataframe tbody tr th {\n",
              "        vertical-align: top;\n",
              "    }\n",
              "\n",
              "    .dataframe thead th {\n",
              "        text-align: right;\n",
              "    }\n",
              "</style>\n",
              "<table border=\"1\" class=\"dataframe\">\n",
              "  <thead>\n",
              "    <tr style=\"text-align: right;\">\n",
              "      <th></th>\n",
              "      <th>Postalcode</th>\n",
              "      <th>Borough</th>\n",
              "      <th>Neighborhood</th>\n",
              "    </tr>\n",
              "  </thead>\n",
              "  <tbody>\n",
              "    <tr>\n",
              "      <th>0</th>\n",
              "      <td>\\nM1ANot assigned\\n\\n</td>\n",
              "      <td>\\nM2ANot assigned\\n\\n</td>\n",
              "      <td>M9AEtobicoke(Islington Avenue), M9AEtobicoke(I...</td>\n",
              "    </tr>\n",
              "    <tr>\n",
              "      <th>1</th>\n",
              "      <td>\\nM1BScarborough(Malvern / Rouge)\\n\\n</td>\n",
              "      <td>\\nM2BNot assigned\\n\\n</td>\n",
              "      <td>M9BEtobicoke(West Deane Park / Princess Garden...</td>\n",
              "    </tr>\n",
              "    <tr>\n",
              "      <th>2</th>\n",
              "      <td>\\nM1CScarborough(Rouge Hill / Port Union / Hig...</td>\n",
              "      <td>\\nM2CNot assigned\\n\\n</td>\n",
              "      <td>M9CEtobicoke(Eringate / Bloordale Gardens / Ol...</td>\n",
              "    </tr>\n",
              "    <tr>\n",
              "      <th>3</th>\n",
              "      <td>\\nM1EScarborough(Guildwood / Morningside / Wes...</td>\n",
              "      <td>\\nM2ENot assigned\\n\\n</td>\n",
              "      <td>M9ENot assigned, M9ENot assigned, M9ENot assigned</td>\n",
              "    </tr>\n",
              "    <tr>\n",
              "      <th>4</th>\n",
              "      <td>\\nM1GScarborough(Woburn)\\n\\n</td>\n",
              "      <td>\\nM2GNot assigned\\n\\n</td>\n",
              "      <td>M9GNot assigned, M9GNot assigned, M9GNot assigned</td>\n",
              "    </tr>\n",
              "  </tbody>\n",
              "</table>\n",
              "</div>"
            ],
            "text/plain": [
              "                                          Postalcode  ...                                       Neighborhood\n",
              "0                              \\nM1ANot assigned\\n\\n  ...  M9AEtobicoke(Islington Avenue), M9AEtobicoke(I...\n",
              "1              \\nM1BScarborough(Malvern / Rouge)\\n\\n  ...  M9BEtobicoke(West Deane Park / Princess Garden...\n",
              "2  \\nM1CScarborough(Rouge Hill / Port Union / Hig...  ...  M9CEtobicoke(Eringate / Bloordale Gardens / Ol...\n",
              "3  \\nM1EScarborough(Guildwood / Morningside / Wes...  ...  M9ENot assigned, M9ENot assigned, M9ENot assigned\n",
              "4                       \\nM1GScarborough(Woburn)\\n\\n  ...  M9GNot assigned, M9GNot assigned, M9GNot assigned\n",
              "\n",
              "[5 rows x 3 columns]"
            ]
          },
          "metadata": {
            "tags": []
          },
          "execution_count": 14
        }
      ]
    },
    {
      "cell_type": "code",
      "metadata": {
        "colab": {
          "base_uri": "https://localhost:8080/",
          "height": 407
        },
        "id": "zo509cfD67gq",
        "outputId": "5037158c-1ff2-4757-da89-f7dfef40d7df"
      },
      "source": [
        "def neighborhood_list(grouped):    \n",
        "    return ', '.join(sorted(grouped['Neighborhood'].tolist()))\n",
        "                    \n",
        "grp = df.groupby(['Postalcode', 'Borough'])\n",
        "df2 = grp.apply(neighborhood_list).reset_index(name='Neighborhood')\n",
        "print(df2.shape)\n",
        "df2.head(11)\n"
      ],
      "execution_count": 15,
      "outputs": [
        {
          "output_type": "stream",
          "text": [
            "(20, 3)\n"
          ],
          "name": "stdout"
        },
        {
          "output_type": "execute_result",
          "data": {
            "text/html": [
              "<div>\n",
              "<style scoped>\n",
              "    .dataframe tbody tr th:only-of-type {\n",
              "        vertical-align: middle;\n",
              "    }\n",
              "\n",
              "    .dataframe tbody tr th {\n",
              "        vertical-align: top;\n",
              "    }\n",
              "\n",
              "    .dataframe thead th {\n",
              "        text-align: right;\n",
              "    }\n",
              "</style>\n",
              "<table border=\"1\" class=\"dataframe\">\n",
              "  <thead>\n",
              "    <tr style=\"text-align: right;\">\n",
              "      <th></th>\n",
              "      <th>Postalcode</th>\n",
              "      <th>Borough</th>\n",
              "      <th>Neighborhood</th>\n",
              "    </tr>\n",
              "  </thead>\n",
              "  <tbody>\n",
              "    <tr>\n",
              "      <th>0</th>\n",
              "      <td>\\nM1ANot assigned\\n\\n</td>\n",
              "      <td>\\nM2ANot assigned\\n\\n</td>\n",
              "      <td>M9AEtobicoke(Islington Avenue), M9AEtobicoke(I...</td>\n",
              "    </tr>\n",
              "    <tr>\n",
              "      <th>1</th>\n",
              "      <td>\\nM1BScarborough(Malvern / Rouge)\\n\\n</td>\n",
              "      <td>\\nM2BNot assigned\\n\\n</td>\n",
              "      <td>M9BEtobicoke(West Deane Park / Princess Garden...</td>\n",
              "    </tr>\n",
              "    <tr>\n",
              "      <th>2</th>\n",
              "      <td>\\nM1CScarborough(Rouge Hill / Port Union / Hig...</td>\n",
              "      <td>\\nM2CNot assigned\\n\\n</td>\n",
              "      <td>M9CEtobicoke(Eringate / Bloordale Gardens / Ol...</td>\n",
              "    </tr>\n",
              "    <tr>\n",
              "      <th>3</th>\n",
              "      <td>\\nM1EScarborough(Guildwood / Morningside / Wes...</td>\n",
              "      <td>\\nM2ENot assigned\\n\\n</td>\n",
              "      <td>M9ENot assigned, M9ENot assigned, M9ENot assigned</td>\n",
              "    </tr>\n",
              "    <tr>\n",
              "      <th>4</th>\n",
              "      <td>\\nM1GScarborough(Woburn)\\n\\n</td>\n",
              "      <td>\\nM2GNot assigned\\n\\n</td>\n",
              "      <td>M9GNot assigned, M9GNot assigned, M9GNot assigned</td>\n",
              "    </tr>\n",
              "    <tr>\n",
              "      <th>5</th>\n",
              "      <td>\\nM1HScarborough(Cedarbrae)\\n\\n</td>\n",
              "      <td>\\nM2HNorth York(Hillcrest Village)\\n\\n</td>\n",
              "      <td>M9HNot assigned, M9HNot assigned, M9HNot assigned</td>\n",
              "    </tr>\n",
              "    <tr>\n",
              "      <th>6</th>\n",
              "      <td>\\nM1JScarborough(Scarborough Village)\\n\\n</td>\n",
              "      <td>\\nM2JNorth York(Fairview / Henry Farm / Oriole...</td>\n",
              "      <td>M9JNot assigned, M9JNot assigned, M9JNot assigned</td>\n",
              "    </tr>\n",
              "    <tr>\n",
              "      <th>7</th>\n",
              "      <td>\\nM1KScarborough(Kennedy Park / Ionview / East...</td>\n",
              "      <td>\\nM2KNorth York(Bayview Village)\\n\\n</td>\n",
              "      <td>M9KNot assigned, M9KNot assigned, M9KNot assigned</td>\n",
              "    </tr>\n",
              "    <tr>\n",
              "      <th>8</th>\n",
              "      <td>\\nM1LScarborough(Golden Mile / Clairlea / Oakr...</td>\n",
              "      <td>\\nM2LNorth York(York Mills / Silver Hills)\\n\\n</td>\n",
              "      <td>M9LNorth York(Humber Summit), M9LNorth York(Hu...</td>\n",
              "    </tr>\n",
              "    <tr>\n",
              "      <th>9</th>\n",
              "      <td>\\nM1MScarborough(Cliffside / Cliffcrest / Scar...</td>\n",
              "      <td>\\nM2MNorth York(Willowdale / Newtonbrook)\\n\\n</td>\n",
              "      <td>M9MNorth York(Humberlea / Emery), M9MNorth Yor...</td>\n",
              "    </tr>\n",
              "    <tr>\n",
              "      <th>10</th>\n",
              "      <td>\\nM1NScarborough(Birch Cliff / Cliffside West)...</td>\n",
              "      <td>\\nM2NNorth York(Willowdale)South\\n\\n</td>\n",
              "      <td>M9NYork(Weston), M9NYork(Weston), M9NYork(Weston)</td>\n",
              "    </tr>\n",
              "  </tbody>\n",
              "</table>\n",
              "</div>"
            ],
            "text/plain": [
              "                                           Postalcode  ...                                       Neighborhood\n",
              "0                               \\nM1ANot assigned\\n\\n  ...  M9AEtobicoke(Islington Avenue), M9AEtobicoke(I...\n",
              "1               \\nM1BScarborough(Malvern / Rouge)\\n\\n  ...  M9BEtobicoke(West Deane Park / Princess Garden...\n",
              "2   \\nM1CScarborough(Rouge Hill / Port Union / Hig...  ...  M9CEtobicoke(Eringate / Bloordale Gardens / Ol...\n",
              "3   \\nM1EScarborough(Guildwood / Morningside / Wes...  ...  M9ENot assigned, M9ENot assigned, M9ENot assigned\n",
              "4                        \\nM1GScarborough(Woburn)\\n\\n  ...  M9GNot assigned, M9GNot assigned, M9GNot assigned\n",
              "5                     \\nM1HScarborough(Cedarbrae)\\n\\n  ...  M9HNot assigned, M9HNot assigned, M9HNot assigned\n",
              "6           \\nM1JScarborough(Scarborough Village)\\n\\n  ...  M9JNot assigned, M9JNot assigned, M9JNot assigned\n",
              "7   \\nM1KScarborough(Kennedy Park / Ionview / East...  ...  M9KNot assigned, M9KNot assigned, M9KNot assigned\n",
              "8   \\nM1LScarborough(Golden Mile / Clairlea / Oakr...  ...  M9LNorth York(Humber Summit), M9LNorth York(Hu...\n",
              "9   \\nM1MScarborough(Cliffside / Cliffcrest / Scar...  ...  M9MNorth York(Humberlea / Emery), M9MNorth Yor...\n",
              "10  \\nM1NScarborough(Birch Cliff / Cliffside West)...  ...  M9NYork(Weston), M9NYork(Weston), M9NYork(Weston)\n",
              "\n",
              "[11 rows x 3 columns]"
            ]
          },
          "metadata": {
            "tags": []
          },
          "execution_count": 15
        }
      ]
    },
    {
      "cell_type": "code",
      "metadata": {
        "colab": {
          "base_uri": "https://localhost:8080/"
        },
        "id": "h9UmcKsq8Kr5",
        "outputId": "5d4999ee-c4f4-47ec-a473-42c64905344b"
      },
      "source": [
        "\n",
        "print('df shape', df2.shape)"
      ],
      "execution_count": 16,
      "outputs": [
        {
          "output_type": "stream",
          "text": [
            "df shape (20, 3)\n"
          ],
          "name": "stdout"
        }
      ]
    },
    {
      "cell_type": "code",
      "metadata": {
        "id": "sxgbj2628NgK"
      },
      "source": [
        ""
      ],
      "execution_count": null,
      "outputs": []
    }
  ]
}