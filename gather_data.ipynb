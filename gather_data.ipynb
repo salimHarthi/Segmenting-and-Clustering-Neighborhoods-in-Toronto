{
  "nbformat": 4,
  "nbformat_minor": 0,
  "metadata": {
    "colab": {
      "name": "gather_data.ipynb",
      "provenance": [],
      "include_colab_link": true
    },
    "kernelspec": {
      "name": "python3",
      "display_name": "Python 3"
    },
    "language_info": {
      "name": "python"
    }
  },
  "cells": [
    {
      "cell_type": "markdown",
      "metadata": {
        "id": "view-in-github",
        "colab_type": "text"
      },
      "source": [
        "<a href=\"https://colab.research.google.com/github/salimHarthi/Segmenting-and-Clustering-Neighborhoods-in-Toronto/blob/main/gather_data.ipynb\" target=\"_parent\"><img src=\"https://colab.research.google.com/assets/colab-badge.svg\" alt=\"Open In Colab\"/></a>"
      ]
    },
    {
      "cell_type": "code",
      "metadata": {
        "id": "cAUv2Bpi6Bt3"
      },
      "source": [
        "from bs4 import BeautifulSoup\n",
        "import requests\n",
        "import pandas as pd\n",
        "import numpy as np"
      ],
      "execution_count": 11,
      "outputs": []
    },
    {
      "cell_type": "code",
      "metadata": {
        "id": "FzYi4bxR5-SP"
      },
      "source": [
        "# download url data from internet\n",
        "url = \"https://en.wikipedia.org/wiki/List_of_postal_codes_of_Canada:_M\"\n",
        "source = requests.get(url).text\n",
        "Canada_data = BeautifulSoup(source, 'lxml')"
      ],
      "execution_count": 12,
      "outputs": []
    },
    {
      "cell_type": "code",
      "metadata": {
        "colab": {
          "base_uri": "https://localhost:8080/",
          "height": 204
        },
        "id": "aQc4IxEW7z5o",
        "outputId": "d3c4efc8-dd69-41bb-c50e-887d13113716"
      },
      "source": [
        "# creat a new Dataframe\n",
        "column_names = ['Postalcode','Borough','Neighborhood']\n",
        "toronto = pd.DataFrame(columns = column_names)\n",
        "content = Canada_data.find('div', class_='mw-parser-output')\n",
        "table = content.table.tbody\n",
        "\n",
        "for tr in table.find_all('tr'):\n",
        "  for p in tr.find_all('p'):\n",
        "    postcode = p.find_all('b')[0].text\n",
        "    span = p.find_all('span')[0].text\n",
        "    borough = span.split('(')[0]\n",
        "    if len(span.split('('))>1:\n",
        "      #neighborhood = span.split('(')[1].replace(')','').split('/')\n",
        "      neighborhood = span.split('(')[1].replace(')','').replace('/',',')\n",
        "    else:\n",
        "      neighborhood = np.nan\n",
        "    toronto = toronto.append({'Postalcode': postcode,'Borough': borough,'Neighborhood': neighborhood},ignore_index=True)\n",
        "toronto.head()"
      ],
      "execution_count": 16,
      "outputs": [
        {
          "output_type": "execute_result",
          "data": {
            "text/html": [
              "<div>\n",
              "<style scoped>\n",
              "    .dataframe tbody tr th:only-of-type {\n",
              "        vertical-align: middle;\n",
              "    }\n",
              "\n",
              "    .dataframe tbody tr th {\n",
              "        vertical-align: top;\n",
              "    }\n",
              "\n",
              "    .dataframe thead th {\n",
              "        text-align: right;\n",
              "    }\n",
              "</style>\n",
              "<table border=\"1\" class=\"dataframe\">\n",
              "  <thead>\n",
              "    <tr style=\"text-align: right;\">\n",
              "      <th></th>\n",
              "      <th>Postalcode</th>\n",
              "      <th>Borough</th>\n",
              "      <th>Neighborhood</th>\n",
              "    </tr>\n",
              "  </thead>\n",
              "  <tbody>\n",
              "    <tr>\n",
              "      <th>0</th>\n",
              "      <td>M1A</td>\n",
              "      <td>Not assigned</td>\n",
              "      <td>NaN</td>\n",
              "    </tr>\n",
              "    <tr>\n",
              "      <th>1</th>\n",
              "      <td>M2A</td>\n",
              "      <td>Not assigned</td>\n",
              "      <td>NaN</td>\n",
              "    </tr>\n",
              "    <tr>\n",
              "      <th>2</th>\n",
              "      <td>M3A</td>\n",
              "      <td>North York</td>\n",
              "      <td>Parkwoods</td>\n",
              "    </tr>\n",
              "    <tr>\n",
              "      <th>3</th>\n",
              "      <td>M4A</td>\n",
              "      <td>North York</td>\n",
              "      <td>Victoria Village</td>\n",
              "    </tr>\n",
              "    <tr>\n",
              "      <th>4</th>\n",
              "      <td>M5A</td>\n",
              "      <td>Downtown Toronto</td>\n",
              "      <td>Regent Park , Harbourfront</td>\n",
              "    </tr>\n",
              "  </tbody>\n",
              "</table>\n",
              "</div>"
            ],
            "text/plain": [
              "  Postalcode           Borough                Neighborhood\n",
              "0        M1A      Not assigned                         NaN\n",
              "1        M2A      Not assigned                         NaN\n",
              "2        M3A        North York                   Parkwoods\n",
              "3        M4A        North York            Victoria Village\n",
              "4        M5A  Downtown Toronto  Regent Park , Harbourfront"
            ]
          },
          "metadata": {
            "tags": []
          },
          "execution_count": 16
        }
      ]
    },
    {
      "cell_type": "code",
      "metadata": {
        "id": "sxgbj2628NgK",
        "outputId": "f2f12a6c-076d-4d54-8158-e60238638911",
        "colab": {
          "base_uri": "https://localhost:8080/",
          "height": 514
        }
      },
      "source": [
        "toronto.dropna(inplace=True)\n",
        "toronto.reset_index()\n",
        "toronto.head(15)"
      ],
      "execution_count": 14,
      "outputs": [
        {
          "output_type": "execute_result",
          "data": {
            "text/html": [
              "<div>\n",
              "<style scoped>\n",
              "    .dataframe tbody tr th:only-of-type {\n",
              "        vertical-align: middle;\n",
              "    }\n",
              "\n",
              "    .dataframe tbody tr th {\n",
              "        vertical-align: top;\n",
              "    }\n",
              "\n",
              "    .dataframe thead th {\n",
              "        text-align: right;\n",
              "    }\n",
              "</style>\n",
              "<table border=\"1\" class=\"dataframe\">\n",
              "  <thead>\n",
              "    <tr style=\"text-align: right;\">\n",
              "      <th></th>\n",
              "      <th>Postalcode</th>\n",
              "      <th>Borough</th>\n",
              "      <th>Neighborhood</th>\n",
              "    </tr>\n",
              "  </thead>\n",
              "  <tbody>\n",
              "    <tr>\n",
              "      <th>2</th>\n",
              "      <td>M3A</td>\n",
              "      <td>North York</td>\n",
              "      <td>Parkwoods</td>\n",
              "    </tr>\n",
              "    <tr>\n",
              "      <th>3</th>\n",
              "      <td>M4A</td>\n",
              "      <td>North York</td>\n",
              "      <td>Victoria Village</td>\n",
              "    </tr>\n",
              "    <tr>\n",
              "      <th>4</th>\n",
              "      <td>M5A</td>\n",
              "      <td>Downtown Toronto</td>\n",
              "      <td>Regent Park , Harbourfront</td>\n",
              "    </tr>\n",
              "    <tr>\n",
              "      <th>5</th>\n",
              "      <td>M6A</td>\n",
              "      <td>North York</td>\n",
              "      <td>Lawrence Manor , Lawrence Heights</td>\n",
              "    </tr>\n",
              "    <tr>\n",
              "      <th>6</th>\n",
              "      <td>M7A</td>\n",
              "      <td>Queen's Park</td>\n",
              "      <td>Ontario Provincial Government</td>\n",
              "    </tr>\n",
              "    <tr>\n",
              "      <th>8</th>\n",
              "      <td>M9A</td>\n",
              "      <td>Etobicoke</td>\n",
              "      <td>Islington Avenue</td>\n",
              "    </tr>\n",
              "    <tr>\n",
              "      <th>9</th>\n",
              "      <td>M1B</td>\n",
              "      <td>Scarborough</td>\n",
              "      <td>Malvern , Rouge</td>\n",
              "    </tr>\n",
              "    <tr>\n",
              "      <th>11</th>\n",
              "      <td>M3B</td>\n",
              "      <td>North York</td>\n",
              "      <td>Don MillsNorth</td>\n",
              "    </tr>\n",
              "    <tr>\n",
              "      <th>12</th>\n",
              "      <td>M4B</td>\n",
              "      <td>East York</td>\n",
              "      <td>Parkview Hill , Woodbine Gardens</td>\n",
              "    </tr>\n",
              "    <tr>\n",
              "      <th>13</th>\n",
              "      <td>M5B</td>\n",
              "      <td>Downtown Toronto</td>\n",
              "      <td>Garden District, Ryerson</td>\n",
              "    </tr>\n",
              "    <tr>\n",
              "      <th>14</th>\n",
              "      <td>M6B</td>\n",
              "      <td>North York</td>\n",
              "      <td>Glencairn</td>\n",
              "    </tr>\n",
              "    <tr>\n",
              "      <th>17</th>\n",
              "      <td>M9B</td>\n",
              "      <td>Etobicoke</td>\n",
              "      <td>West Deane Park , Princess Gardens , Martin Gr...</td>\n",
              "    </tr>\n",
              "    <tr>\n",
              "      <th>18</th>\n",
              "      <td>M1C</td>\n",
              "      <td>Scarborough</td>\n",
              "      <td>Rouge Hill , Port Union , Highland Creek</td>\n",
              "    </tr>\n",
              "    <tr>\n",
              "      <th>20</th>\n",
              "      <td>M3C</td>\n",
              "      <td>North York</td>\n",
              "      <td>Don MillsSouth</td>\n",
              "    </tr>\n",
              "    <tr>\n",
              "      <th>21</th>\n",
              "      <td>M4C</td>\n",
              "      <td>East York</td>\n",
              "      <td>Woodbine Heights</td>\n",
              "    </tr>\n",
              "  </tbody>\n",
              "</table>\n",
              "</div>"
            ],
            "text/plain": [
              "   Postalcode  ...                                       Neighborhood\n",
              "2         M3A  ...                                          Parkwoods\n",
              "3         M4A  ...                                   Victoria Village\n",
              "4         M5A  ...                         Regent Park , Harbourfront\n",
              "5         M6A  ...                  Lawrence Manor , Lawrence Heights\n",
              "6         M7A  ...                      Ontario Provincial Government\n",
              "8         M9A  ...                                   Islington Avenue\n",
              "9         M1B  ...                                    Malvern , Rouge\n",
              "11        M3B  ...                                     Don MillsNorth\n",
              "12        M4B  ...                   Parkview Hill , Woodbine Gardens\n",
              "13        M5B  ...                           Garden District, Ryerson\n",
              "14        M6B  ...                                          Glencairn\n",
              "17        M9B  ...  West Deane Park , Princess Gardens , Martin Gr...\n",
              "18        M1C  ...           Rouge Hill , Port Union , Highland Creek\n",
              "20        M3C  ...                                     Don MillsSouth\n",
              "21        M4C  ...                                   Woodbine Heights\n",
              "\n",
              "[15 rows x 3 columns]"
            ]
          },
          "metadata": {
            "tags": []
          },
          "execution_count": 14
        }
      ]
    },
    {
      "cell_type": "code",
      "metadata": {
        "id": "aQyRHzJrLQuM",
        "outputId": "584b9fc9-98c3-4edb-b2a8-03a63dd8905a",
        "colab": {
          "base_uri": "https://localhost:8080/"
        }
      },
      "source": [
        "print(toronto.shape)"
      ],
      "execution_count": 15,
      "outputs": [
        {
          "output_type": "stream",
          "text": [
            "(103, 3)\n"
          ],
          "name": "stdout"
        }
      ]
    },
    {
      "cell_type": "code",
      "metadata": {
        "id": "UQfS6tWgLRdq"
      },
      "source": [
        ""
      ],
      "execution_count": null,
      "outputs": []
    }
  ]
}